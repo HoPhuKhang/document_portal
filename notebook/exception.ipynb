{
 "cells": [
  {
   "cell_type": "code",
   "execution_count": 1,
   "id": "5d486710",
   "metadata": {},
   "outputs": [],
   "source": [
    "import sys\n",
    "import traceback"
   ]
  },
  {
   "cell_type": "code",
   "execution_count": 10,
   "id": "2cf96fe8",
   "metadata": {},
   "outputs": [],
   "source": [
    "from logger.custom_logging import CustomLogger"
   ]
  },
  {
   "cell_type": "code",
   "execution_count": 14,
   "id": "3430f977",
   "metadata": {},
   "outputs": [],
   "source": [
    "logger = CustomLogger().get_logger(\"exception\")"
   ]
  },
  {
   "cell_type": "code",
   "execution_count": null,
   "id": "28ae392a",
   "metadata": {},
   "outputs": [
    {
     "ename": "DocumentPortalException",
     "evalue": "\n        Error in [/var/folders/yp/3qncdc4d7q7cmvdhg6dt4x040000gn/T/ipykernel_2487/848079753.py] at line number [20] : division by zero \n Traceback : Traceback (most recent call last):\n  File \"/var/folders/yp/3qncdc4d7q7cmvdhg6dt4x040000gn/T/ipykernel_2487/848079753.py\", line 20, in <module>\n    a = 1 / 0\nZeroDivisionError: division by zero\n",
     "output_type": "error",
     "traceback": [
      "\u001b[0;31m---------------------------------------------------------------------------\u001b[0m",
      "\u001b[0;31mZeroDivisionError\u001b[0m                         Traceback (most recent call last)",
      "Cell \u001b[0;32mIn[15], line 20\u001b[0m\n\u001b[1;32m     19\u001b[0m \u001b[38;5;28;01mtry\u001b[39;00m:\n\u001b[0;32m---> 20\u001b[0m     a \u001b[38;5;241m=\u001b[39m \u001b[38;5;241;43m1\u001b[39;49m\u001b[43m \u001b[49m\u001b[38;5;241;43m/\u001b[39;49m\u001b[43m \u001b[49m\u001b[38;5;241;43m0\u001b[39;49m\n\u001b[1;32m     21\u001b[0m     \u001b[38;5;28mprint\u001b[39m(a)\n",
      "\u001b[0;31mZeroDivisionError\u001b[0m: division by zero",
      "\nDuring handling of the above exception, another exception occurred:\n",
      "\u001b[0;31mDocumentPortalException\u001b[0m                   Traceback (most recent call last)",
      "Cell \u001b[0;32mIn[15], line 25\u001b[0m\n\u001b[1;32m     23\u001b[0m app_exc \u001b[38;5;241m=\u001b[39m DocumentPortalException(\u001b[38;5;28mstr\u001b[39m(e),sys)\n\u001b[1;32m     24\u001b[0m logger\u001b[38;5;241m.\u001b[39merror(app_exc)\n\u001b[0;32m---> 25\u001b[0m \u001b[38;5;28;01mraise\u001b[39;00m app_exc\n",
      "\u001b[0;31mDocumentPortalException\u001b[0m: \n        Error in [/var/folders/yp/3qncdc4d7q7cmvdhg6dt4x040000gn/T/ipykernel_2487/848079753.py] at line number [20] : division by zero \n Traceback : Traceback (most recent call last):\n  File \"/var/folders/yp/3qncdc4d7q7cmvdhg6dt4x040000gn/T/ipykernel_2487/848079753.py\", line 20, in <module>\n    a = 1 / 0\nZeroDivisionError: division by zero\n"
     ]
    }
   ],
   "source": [
    "class DocumentPortalException(Exception):\n",
    "    \"\"\"Base class for all exceptions raised by Document Portal.\"\"\"\n",
    "\n",
    "    def __init__(self, error_message:str,error_detail:sys):\n",
    "        _,_,exc_tb=error_detail.exc_info() # tra ve 3 gia tri (exc_type, exc_value, exc_traceback)\n",
    "        self.file_name=exc_tb.tb_frame.f_code.co_filename\n",
    "        self.line_number=exc_tb.tb_lineno\n",
    "        self.error_message = str(error_message) \n",
    "        self.tracreback_str =\"\".join(traceback.format_exception(*error_detail.exc_info())) # *error_detail.exc_info() giải nén 3 giá trị: (exc_type, exc_value, exc_tb).       \n",
    "        \n",
    "        \n",
    "\n",
    "    def __str__(self):\n",
    "        return f\"\"\"\n",
    "        Error in [{self.file_name}] at line number [{self.line_number}] : {self.error_message} \\n Traceback : {self.tracreback_str}\"\"\"\n",
    "    \n",
    "if __name__ == \"__main__\":\n",
    "    try:\n",
    "        a = 1 / 0\n",
    "        print(a)\n",
    "    except Exception as e:\n",
    "        app_exc = DocumentPortalException(str(e),sys)\n",
    "        logger.error(app_exc)\n",
    "        raise app_exc"
   ]
  },
  {
   "cell_type": "code",
   "execution_count": 4,
   "id": "242018d0",
   "metadata": {},
   "outputs": [
    {
     "name": "stdout",
     "output_type": "stream",
     "text": [
      "Collecting structlog\n",
      "  Using cached structlog-25.4.0-py3-none-any.whl.metadata (7.6 kB)\n",
      "Requirement already satisfied: typing-extensions in /Users/hophukhang/document_portal/env/lib/python3.10/site-packages (from structlog) (4.15.0)\n",
      "Using cached structlog-25.4.0-py3-none-any.whl (68 kB)\n",
      "Installing collected packages: structlog\n",
      "Successfully installed structlog-25.4.0\n"
     ]
    }
   ],
   "source": [
    "!pip install structlog"
   ]
  },
  {
   "cell_type": "code",
   "execution_count": 5,
   "id": "16bf2390",
   "metadata": {},
   "outputs": [],
   "source": [
    "import structlog\n",
    "logger = structlog.get_logger()"
   ]
  },
  {
   "cell_type": "code",
   "execution_count": 7,
   "id": "231ad8c0",
   "metadata": {},
   "outputs": [
    {
     "name": "stdout",
     "output_type": "stream",
     "text": [
      "\u001b[2m2025-10-12 02:28:42\u001b[0m [\u001b[31m\u001b[1merror    \u001b[0m] \u001b[1mFailed to load data           \u001b[0m \u001b[36mfilename\u001b[0m=\u001b[35mdata.csv\u001b[0m \u001b[36mreason\u001b[0m=\u001b[35m'file not found'\u001b[0m\n"
     ]
    }
   ],
   "source": [
    "logger.error(\"Failed to load data\", filename=\"data.csv\", reason=\"file not found\")"
   ]
  },
  {
   "cell_type": "code",
   "execution_count": 8,
   "id": "e0c9e1d8",
   "metadata": {},
   "outputs": [
    {
     "data": {
      "text/plain": [
       "(None, None, None)"
      ]
     },
     "execution_count": 8,
     "metadata": {},
     "output_type": "execute_result"
    }
   ],
   "source": [
    "import sys\n",
    "sys.exc_info()"
   ]
  },
  {
   "cell_type": "code",
   "execution_count": null,
   "id": "7e973389",
   "metadata": {},
   "outputs": [],
   "source": []
  }
 ],
 "metadata": {
  "kernelspec": {
   "display_name": "Python 3",
   "language": "python",
   "name": "python3"
  },
  "language_info": {
   "codemirror_mode": {
    "name": "ipython",
    "version": 3
   },
   "file_extension": ".py",
   "mimetype": "text/x-python",
   "name": "python",
   "nbconvert_exporter": "python",
   "pygments_lexer": "ipython3",
   "version": "3.10.18"
  }
 },
 "nbformat": 4,
 "nbformat_minor": 5
}
